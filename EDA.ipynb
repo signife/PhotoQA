{
 "cells": [
  {
   "cell_type": "code",
   "execution_count": null,
   "metadata": {},
   "outputs": [],
   "source": [
    "import pandas as pd\n",
    "import numpy as np\n",
    "import matplotlib.pyplot as plt\n",
    "import seaborn as sns\n",
    "\n",
    "# Load the CSV file\n",
    "data = pd.read_csv('data/data-1729656846556.csv')\n",
    "\n",
    "# Display the first few rows of the data\n",
    "data.head()\n"
   ]
  },
  {
   "cell_type": "markdown",
   "metadata": {},
   "source": [
    "#지금당장은 이 칼럼들만 살리고, 주석처리한 칼럼은 나중에 더 개량할때.\n",
    "job_no image_name image_type image_status decline_reason\n",
    "<!-- alarm_required alarm_brand   alarm_grade alarm_interconnected alarm_power alarm_type alarm_status\talarm_action\talarm_reason\t\n",
    "expiry_year\texpiry_month\t -->"
   ]
  },
  {
   "cell_type": "code",
   "execution_count": null,
   "metadata": {},
   "outputs": [],
   "source": [
    "# Keep only the specified columns\n",
    "data = data[['job_no', 'image_name', 'image_type', 'image_status', 'decline_reason']]\n",
    "\n",
    "# Display the first few rows of the updated DataFrame\n",
    "print(data.head())"
   ]
  },
  {
   "cell_type": "code",
   "execution_count": null,
   "metadata": {},
   "outputs": [],
   "source": [
    "print(data.dtypes)"
   ]
  },
  {
   "cell_type": "code",
   "execution_count": null,
   "metadata": {},
   "outputs": [],
   "source": [
    "print(\"--Initial shape of data:\", data.shape)\n",
    "print(\"Missing values per column:\\n\", data.isnull().sum())\n",
    "print(\"--Shape of data after dropping missing values:\", data.shape)"
   ]
  },
  {
   "cell_type": "code",
   "execution_count": null,
   "metadata": {},
   "outputs": [],
   "source": [
    "status_counts = data['image_status'].value_counts()\n",
    "\n",
    "# Plot the distribution\n",
    "plt.figure(figsize=(8, 6))\n",
    "sns.barplot(x=status_counts.index, y=status_counts.values)\n",
    "plt.title('Distribution of Image Status')\n",
    "plt.xlabel('Image Status')\n",
    "plt.ylabel('Count')\n",
    "plt.show()\n"
   ]
  },
  {
   "cell_type": "code",
   "execution_count": null,
   "metadata": {},
   "outputs": [],
   "source": [
    "print(data['image_status'].value_counts())\n",
    "# Remove rows where image_status is 'pending'\n",
    "data = data[data['image_status'] != 'Pending']\n",
    "\n",
    "# Verify the result\n",
    "print(data['image_status'].value_counts())"
   ]
  },
  {
   "cell_type": "code",
   "execution_count": null,
   "metadata": {},
   "outputs": [],
   "source": [
    "status_counts2 = data['decline_reason'].value_counts()\n",
    "\n",
    "# Plot the distribution\n",
    "plt.figure(figsize=(8, 6))\n",
    "sns.barplot(x=status_counts2.index, y=status_counts2.values)\n",
    "plt.title('reason of decline')\n",
    "plt.xlabel('Image Status')\n",
    "plt.ylabel('Count')\n",
    "plt.show()\n"
   ]
  },
  {
   "cell_type": "code",
   "execution_count": null,
   "metadata": {},
   "outputs": [],
   "source": [
    "import os\n",
    "from PIL import Image\n",
    "\n",
    "# Define the base directory for declined images\n",
    "base_dir = 'data/declined/compliances'\n",
    "\n",
    "# Filter DataFrame to get the first 10 declined images\n",
    "declined_images = data[(data['image_status'] == 'Declined')].head(10)\n",
    "\n",
    "# Loop through each declined image\n",
    "for index, row in declined_images.iterrows():\n",
    "    job_no = str(row['job_no'])\n",
    "    image_name = row['image_name']\n",
    "    decline_reason = row['decline_reason']\n",
    "    \n",
    "    # Construct the full path to the image\n",
    "    image_path = os.path.join(base_dir, job_no, image_name)\n",
    "    \n",
    "    # Check if the image file exists\n",
    "    if os.path.exists(image_path):\n",
    "        # Open and display the image\n",
    "        img = Image.open(image_path)\n",
    "        plt.figure()\n",
    "        plt.imshow(img)\n",
    "        plt.title(f'Job No: {job_no} - Image: {image_name}')\n",
    "        plt.axis('off')  # Hide axes for a cleaner look\n",
    "        plt.figtext(0.5, 0.01, f\"Decline Reason: {decline_reason}\", ha=\"center\", fontsize=10, wrap=True)\n",
    "        plt.show()\n",
    "    else:\n",
    "        print(f\"Image not found: {image_path}\")\n",
    "\n"
   ]
  },
  {
   "cell_type": "code",
   "execution_count": null,
   "metadata": {},
   "outputs": [],
   "source": []
  }
 ],
 "metadata": {
  "kernelspec": {
   "display_name": "Python 3",
   "language": "python",
   "name": "python3"
  },
  "language_info": {
   "codemirror_mode": {
    "name": "ipython",
    "version": 3
   },
   "file_extension": ".py",
   "mimetype": "text/x-python",
   "name": "python",
   "nbconvert_exporter": "python",
   "pygments_lexer": "ipython3",
   "version": "3.12.7"
  }
 },
 "nbformat": 4,
 "nbformat_minor": 2
}
