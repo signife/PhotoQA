{
 "cells": [
  {
   "cell_type": "code",
   "execution_count": 3,
   "metadata": {},
   "outputs": [
    {
     "data": {
      "text/html": [
       "<div>\n",
       "<style scoped>\n",
       "    .dataframe tbody tr th:only-of-type {\n",
       "        vertical-align: middle;\n",
       "    }\n",
       "\n",
       "    .dataframe tbody tr th {\n",
       "        vertical-align: top;\n",
       "    }\n",
       "\n",
       "    .dataframe thead th {\n",
       "        text-align: right;\n",
       "    }\n",
       "</style>\n",
       "<table border=\"1\" class=\"dataframe\">\n",
       "  <thead>\n",
       "    <tr style=\"text-align: right;\">\n",
       "      <th></th>\n",
       "      <th>job_no</th>\n",
       "      <th>job_date</th>\n",
       "      <th>job_type</th>\n",
       "      <th>job_status</th>\n",
       "      <th>property_id</th>\n",
       "      <th>room_level</th>\n",
       "      <th>room_name</th>\n",
       "      <th>line_id</th>\n",
       "      <th>alarm_required</th>\n",
       "      <th>alarm_brand</th>\n",
       "      <th>alarm_grade</th>\n",
       "      <th>alarm_interconnected</th>\n",
       "      <th>alarm_power</th>\n",
       "      <th>alarm_type</th>\n",
       "      <th>alarm_status</th>\n",
       "      <th>alarm_action</th>\n",
       "      <th>alarm_reason</th>\n",
       "      <th>expiry_year</th>\n",
       "      <th>expiry_month</th>\n",
       "      <th>image_id</th>\n",
       "      <th>image_name</th>\n",
       "      <th>image_type</th>\n",
       "      <th>image_status</th>\n",
       "      <th>decline_reason</th>\n",
       "    </tr>\n",
       "  </thead>\n",
       "  <tbody>\n",
       "    <tr>\n",
       "      <th>0</th>\n",
       "      <td>799844</td>\n",
       "      <td>2024-06-28</td>\n",
       "      <td>Lease Service</td>\n",
       "      <td>Compliant</td>\n",
       "      <td>144255</td>\n",
       "      <td>GF/Entrance</td>\n",
       "      <td>Bedroom 1</td>\n",
       "      <td>1879946</td>\n",
       "      <td>RFC</td>\n",
       "      <td>Voltex</td>\n",
       "      <td>Standard</td>\n",
       "      <td>R/F</td>\n",
       "      <td>9V</td>\n",
       "      <td>LT P/E</td>\n",
       "      <td>Compliant</td>\n",
       "      <td>Replace (New Alarm)</td>\n",
       "      <td>Faulty</td>\n",
       "      <td>2034.0</td>\n",
       "      <td>6.0</td>\n",
       "      <td>2365310</td>\n",
       "      <td>741243435-smokealarm-bedroom-1.jpg</td>\n",
       "      <td>Images</td>\n",
       "      <td>Approved</td>\n",
       "      <td>NaN</td>\n",
       "    </tr>\n",
       "    <tr>\n",
       "      <th>1</th>\n",
       "      <td>799844</td>\n",
       "      <td>2024-06-28</td>\n",
       "      <td>Lease Service</td>\n",
       "      <td>Compliant</td>\n",
       "      <td>144255</td>\n",
       "      <td>GF/Entrance</td>\n",
       "      <td>Bedroom 1</td>\n",
       "      <td>1879946</td>\n",
       "      <td>RFC</td>\n",
       "      <td>Voltex</td>\n",
       "      <td>Standard</td>\n",
       "      <td>R/F</td>\n",
       "      <td>9V</td>\n",
       "      <td>LT P/E</td>\n",
       "      <td>Compliant</td>\n",
       "      <td>Replace (New Alarm)</td>\n",
       "      <td>Faulty</td>\n",
       "      <td>2034.0</td>\n",
       "      <td>6.0</td>\n",
       "      <td>2365311</td>\n",
       "      <td>741243492-smokealarm-bedroom-1.jpg</td>\n",
       "      <td>ExpiryImages</td>\n",
       "      <td>Approved</td>\n",
       "      <td>NaN</td>\n",
       "    </tr>\n",
       "    <tr>\n",
       "      <th>2</th>\n",
       "      <td>799844</td>\n",
       "      <td>2024-06-28</td>\n",
       "      <td>Lease Service</td>\n",
       "      <td>Compliant</td>\n",
       "      <td>144255</td>\n",
       "      <td>GF/Entrance</td>\n",
       "      <td>Bedroom 1</td>\n",
       "      <td>1879946</td>\n",
       "      <td>RFC</td>\n",
       "      <td>Voltex</td>\n",
       "      <td>Standard</td>\n",
       "      <td>R/F</td>\n",
       "      <td>9V</td>\n",
       "      <td>LT P/E</td>\n",
       "      <td>Compliant</td>\n",
       "      <td>Replace (New Alarm)</td>\n",
       "      <td>Faulty</td>\n",
       "      <td>2034.0</td>\n",
       "      <td>6.0</td>\n",
       "      <td>2365312</td>\n",
       "      <td>741243498-smokealarm-bedroom-1.jpg</td>\n",
       "      <td>ExpiryImages</td>\n",
       "      <td>Approved</td>\n",
       "      <td>NaN</td>\n",
       "    </tr>\n",
       "    <tr>\n",
       "      <th>3</th>\n",
       "      <td>799844</td>\n",
       "      <td>2024-06-28</td>\n",
       "      <td>Lease Service</td>\n",
       "      <td>Compliant</td>\n",
       "      <td>144255</td>\n",
       "      <td>GF/Entrance</td>\n",
       "      <td>Bedroom 2</td>\n",
       "      <td>1879947</td>\n",
       "      <td>RFC</td>\n",
       "      <td>Voltex</td>\n",
       "      <td>Standard</td>\n",
       "      <td>R/F</td>\n",
       "      <td>9V</td>\n",
       "      <td>LT P/E</td>\n",
       "      <td>Compliant</td>\n",
       "      <td>Serviced Alarm</td>\n",
       "      <td>NaN</td>\n",
       "      <td>2032.0</td>\n",
       "      <td>6.0</td>\n",
       "      <td>2365313</td>\n",
       "      <td>741243538-smokealarm-bedroom-2.jpg</td>\n",
       "      <td>Images</td>\n",
       "      <td>Approved</td>\n",
       "      <td>NaN</td>\n",
       "    </tr>\n",
       "    <tr>\n",
       "      <th>4</th>\n",
       "      <td>799844</td>\n",
       "      <td>2024-06-28</td>\n",
       "      <td>Lease Service</td>\n",
       "      <td>Compliant</td>\n",
       "      <td>144255</td>\n",
       "      <td>GF/Entrance</td>\n",
       "      <td>Bedroom 2</td>\n",
       "      <td>1879947</td>\n",
       "      <td>RFC</td>\n",
       "      <td>Voltex</td>\n",
       "      <td>Standard</td>\n",
       "      <td>R/F</td>\n",
       "      <td>9V</td>\n",
       "      <td>LT P/E</td>\n",
       "      <td>Compliant</td>\n",
       "      <td>Serviced Alarm</td>\n",
       "      <td>NaN</td>\n",
       "      <td>2032.0</td>\n",
       "      <td>6.0</td>\n",
       "      <td>2365314</td>\n",
       "      <td>741243556-smokealarm-bedroom-2.jpg</td>\n",
       "      <td>ExpiryImages</td>\n",
       "      <td>Approved</td>\n",
       "      <td>NaN</td>\n",
       "    </tr>\n",
       "  </tbody>\n",
       "</table>\n",
       "</div>"
      ],
      "text/plain": [
       "   job_no    job_date       job_type job_status  property_id   room_level  \\\n",
       "0  799844  2024-06-28  Lease Service  Compliant       144255  GF/Entrance   \n",
       "1  799844  2024-06-28  Lease Service  Compliant       144255  GF/Entrance   \n",
       "2  799844  2024-06-28  Lease Service  Compliant       144255  GF/Entrance   \n",
       "3  799844  2024-06-28  Lease Service  Compliant       144255  GF/Entrance   \n",
       "4  799844  2024-06-28  Lease Service  Compliant       144255  GF/Entrance   \n",
       "\n",
       "   room_name  line_id alarm_required alarm_brand alarm_grade  \\\n",
       "0  Bedroom 1  1879946            RFC      Voltex    Standard   \n",
       "1  Bedroom 1  1879946            RFC      Voltex    Standard   \n",
       "2  Bedroom 1  1879946            RFC      Voltex    Standard   \n",
       "3  Bedroom 2  1879947            RFC      Voltex    Standard   \n",
       "4  Bedroom 2  1879947            RFC      Voltex    Standard   \n",
       "\n",
       "  alarm_interconnected alarm_power alarm_type alarm_status  \\\n",
       "0                  R/F          9V     LT P/E    Compliant   \n",
       "1                  R/F          9V     LT P/E    Compliant   \n",
       "2                  R/F          9V     LT P/E    Compliant   \n",
       "3                  R/F          9V     LT P/E    Compliant   \n",
       "4                  R/F          9V     LT P/E    Compliant   \n",
       "\n",
       "          alarm_action alarm_reason  expiry_year  expiry_month  image_id  \\\n",
       "0  Replace (New Alarm)       Faulty       2034.0           6.0   2365310   \n",
       "1  Replace (New Alarm)       Faulty       2034.0           6.0   2365311   \n",
       "2  Replace (New Alarm)       Faulty       2034.0           6.0   2365312   \n",
       "3       Serviced Alarm          NaN       2032.0           6.0   2365313   \n",
       "4       Serviced Alarm          NaN       2032.0           6.0   2365314   \n",
       "\n",
       "                           image_name    image_type image_status  \\\n",
       "0  741243435-smokealarm-bedroom-1.jpg        Images     Approved   \n",
       "1  741243492-smokealarm-bedroom-1.jpg  ExpiryImages     Approved   \n",
       "2  741243498-smokealarm-bedroom-1.jpg  ExpiryImages     Approved   \n",
       "3  741243538-smokealarm-bedroom-2.jpg        Images     Approved   \n",
       "4  741243556-smokealarm-bedroom-2.jpg  ExpiryImages     Approved   \n",
       "\n",
       "  decline_reason  \n",
       "0            NaN  \n",
       "1            NaN  \n",
       "2            NaN  \n",
       "3            NaN  \n",
       "4            NaN  "
      ]
     },
     "execution_count": 3,
     "metadata": {},
     "output_type": "execute_result"
    }
   ],
   "source": [
    "import pandas as pd\n",
    "import numpy as np\n",
    "import matplotlib.pyplot as plt\n",
    "import seaborn as sns\n",
    "\n",
    "# Load the CSV file\n",
    "data = pd.read_csv('data/data-1729656846556.csv')\n",
    "\n",
    "# Display all columns\n",
    "pd.set_option('display.max_columns', None)\n",
    "\n",
    "# Display all rows\n",
    "pd.set_option('display.max_rows', None)\n",
    "\n",
    "# Display the first few rows of the data\n",
    "data.head()\n"
   ]
  },
  {
   "cell_type": "markdown",
   "metadata": {},
   "source": [
    "#지금당장은 이 칼럼들만 살리고, 주석처리한 칼럼은 나중에 더 개량할때.\n",
    "job_no image_name image_type image_status decline_reason\n",
    "<!-- alarm_required alarm_brand   alarm_grade alarm_interconnected alarm_power alarm_type alarm_status\talarm_action\talarm_reason\t\n",
    "expiry_year\texpiry_month\t -->"
   ]
  },
  {
   "cell_type": "code",
   "execution_count": 4,
   "metadata": {},
   "outputs": [
    {
     "name": "stdout",
     "output_type": "stream",
     "text": [
      "   job_no                          image_name    image_type image_status  \\\n",
      "0  799844  741243435-smokealarm-bedroom-1.jpg        Images     Approved   \n",
      "1  799844  741243492-smokealarm-bedroom-1.jpg  ExpiryImages     Approved   \n",
      "2  799844  741243498-smokealarm-bedroom-1.jpg  ExpiryImages     Approved   \n",
      "3  799844  741243538-smokealarm-bedroom-2.jpg        Images     Approved   \n",
      "4  799844  741243556-smokealarm-bedroom-2.jpg  ExpiryImages     Approved   \n",
      "\n",
      "  decline_reason  \n",
      "0            NaN  \n",
      "1            NaN  \n",
      "2            NaN  \n",
      "3            NaN  \n",
      "4            NaN  \n"
     ]
    }
   ],
   "source": [
    "# Keep only the specified columns\n",
    "data = data[['job_no', 'image_name', 'image_type', 'image_status', 'decline_reason']]\n",
    "\n",
    "# Display the first few rows of the updated DataFrame\n",
    "print(data.head())"
   ]
  },
  {
   "cell_type": "code",
   "execution_count": 9,
   "metadata": {},
   "outputs": [
    {
     "name": "stdout",
     "output_type": "stream",
     "text": [
      "job_no             int64\n",
      "image_name        object\n",
      "image_type        object\n",
      "image_status      object\n",
      "decline_reason    object\n",
      "dtype: object\n"
     ]
    }
   ],
   "source": [
    "print(data.dtypes)"
   ]
  },
  {
   "cell_type": "markdown",
   "metadata": {},
   "source": [
    "## The following section applies only to rows with 'Images' in the 'image_type' column"
   ]
  },
  {
   "cell_type": "code",
   "execution_count": 10,
   "metadata": {},
   "outputs": [
    {
     "name": "stdout",
     "output_type": "stream",
     "text": [
      "    job_no                                       image_name image_type  \\\n",
      "0   799844               741243435-smokealarm-bedroom-1.jpg     Images   \n",
      "3   799844               741243538-smokealarm-bedroom-2.jpg     Images   \n",
      "6   799844               741243884-smokealarm-bedroom-4.jpg     Images   \n",
      "11  799844    741243945-smokealarm-hall---o-s-bedroom-s.jpg     Images   \n",
      "12  799844  741244092-smokealarm-hall---o-s-bedroom-s-_.jpg     Images   \n",
      "\n",
      "   image_status decline_reason  \n",
      "0      Approved            NaN  \n",
      "3      Approved            NaN  \n",
      "6      Approved            NaN  \n",
      "11     Approved            NaN  \n",
      "12     Approved            NaN  \n"
     ]
    }
   ],
   "source": [
    "# Create a new DataFrame excluding rows where 'image_type' is 'ExpiryImages'\n",
    "data = data[data['image_type'] != 'ExpiryImages']\n",
    "\n",
    "# Display the first few rows of the new DataFrame\n",
    "print(data.head())"
   ]
  },
  {
   "cell_type": "code",
   "execution_count": 12,
   "metadata": {},
   "outputs": [
    {
     "name": "stdout",
     "output_type": "stream",
     "text": [
      "--Initial shape of data: (4294, 5)\n",
      "Missing values per column:\n",
      " job_no               0\n",
      "image_name           0\n",
      "image_type           0\n",
      "image_status         0\n",
      "decline_reason    3438\n",
      "dtype: int64\n",
      "--Shape of data after dropping missing values: (4294, 5)\n"
     ]
    }
   ],
   "source": [
    "print(\"--Initial shape of data:\", data.shape)\n",
    "print(\"Missing values per column:\\n\", data.isnull().sum())\n",
    "print(\"--Shape of data after dropping missing values:\", data.shape)"
   ]
  },
  {
   "cell_type": "code",
   "execution_count": 13,
   "metadata": {},
   "outputs": [
    {
     "data": {
      "image/png": "[encoded data removed]",
      "text/plain": [
       "<Figure size 800x600 with 1 Axes>"
      ]
     },
     "metadata": {},
     "output_type": "display_data"
    }
   ],
   "source": [
    "status_counts = data['image_status'].value_counts()\n",
    "\n",
    "# Plot the distribution\n",
    "plt.figure(figsize=(8, 6))\n",
    "sns.barplot(x=status_counts.index, y=status_counts.values)\n",
    "plt.title('Distribution of Image Status')\n",
    "plt.xlabel('Image Status')\n",
    "plt.ylabel('Count')\n",
    "plt.show()\n"
   ]
  },
  {
   "cell_type": "code",
   "execution_count": 14,
   "metadata": {},
   "outputs": [
    {
     "name": "stdout",
     "output_type": "stream",
     "text": [
      "image_status\n",
      "Approved    3444\n",
      "Declined     850\n",
      "Name: count, dtype: int64\n",
      "image_status\n",
      "Approved    3444\n",
      "Declined     850\n",
      "Name: count, dtype: int64\n"
     ]
    }
   ],
   "source": [
    "print(data['image_status'].value_counts())\n",
    "# Remove rows where image_status is 'pending'\n",
    "data = data[data['image_status'] != 'Pending']\n",
    "\n",
    "# Verify the result\n",
    "print(data['image_status'].value_counts())"
   ]
  },
  {
   "cell_type": "code",
   "execution_count": 15,
   "metadata": {},
   "outputs": [
    {
     "data": {
      "image/png": "[encoded data removed]",
      "text/plain": [
       "<Figure size 800x600 with 1 Axes>"
      ]
     },
     "metadata": {},
     "output_type": "display_data"
    }
   ],
   "source": [
    "status_counts2 = data['decline_reason'].value_counts()\n",
    "\n",
    "# Plot the distribution\n",
    "plt.figure(figsize=(8, 6))\n",
    "sns.barplot(x=status_counts2.index, y=status_counts2.values)\n",
    "plt.title('reason of decline')\n",
    "plt.xlabel('Image Status')\n",
    "plt.ylabel('Count')\n",
    "plt.show()\n"
   ]
  },
  {
   "cell_type": "code",
   "execution_count": 17,
   "metadata": {},
   "outputs": [],
   "source": [
    "# Save the images_data DataFrame to a CSV file\n",
    "data.to_csv('data/images_data_filtered.csv', index=False)\n"
   ]
  },
  {
   "cell_type": "code",
   "execution_count": null,
   "metadata": {},
   "outputs": [],
   "source": [
    "import os\n",
    "from PIL import Image\n",
    "\n",
    "# Define the base directory for declined images\n",
    "base_dir = 'data/declined/compliances'\n",
    "\n",
    "# Filter DataFrame to get the first 10 declined images\n",
    "declined_images = data[(data['image_status'] == 'Declined')].head(10)\n",
    "\n",
    "# Loop through each declined image\n",
    "for index, row in declined_images.iterrows():\n",
    "    job_no = str(row['job_no'])\n",
    "    image_name = row['image_name']\n",
    "    decline_reason = row['decline_reason']\n",
    "    \n",
    "    # Construct the full path to the image\n",
    "    image_path = os.path.join(base_dir, job_no, image_name)\n",
    "    \n",
    "    # Check if the image file exists\n",
    "    if os.path.exists(image_path):\n",
    "        # Open and display the image\n",
    "        img = Image.open(image_path)\n",
    "        plt.figure()\n",
    "        plt.imshow(img)\n",
    "        plt.title(f'Job No: {job_no} - Image: {image_name}')\n",
    "        plt.axis('off')  # Hide axes for a cleaner look\n",
    "        plt.figtext(0.5, 0.01, f\"Decline Reason: {decline_reason}\", ha=\"center\", fontsize=10, wrap=True)\n",
    "        plt.show()\n",
    "    else:\n",
    "        print(f\"Image not found: {image_path}\")\n",
    "\n"
   ]
  },
  {
   "cell_type": "code",
   "execution_count": null,
   "metadata": {},
   "outputs": [],
   "source": []
  }
 ],
 "metadata": {
  "kernelspec": {
   "display_name": "Python 3",
   "language": "python",
   "name": "python3"
  },
  "language_info": {
   "codemirror_mode": {
    "name": "ipython",
    "version": 3
   },
   "file_extension": ".py",
   "mimetype": "text/x-python",
   "name": "python",
   "nbconvert_exporter": "python",
   "pygments_lexer": "ipython3",
   "version": "3.12.7"
  }
 },
 "nbformat": 4,
 "nbformat_minor": 2
}
