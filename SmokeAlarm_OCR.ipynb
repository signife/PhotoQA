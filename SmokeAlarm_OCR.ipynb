{
 "cells": [
  {
   "cell_type": "code",
   "execution_count": null,
   "metadata": {
    "colab": {
     "base_uri": "https://localhost:8080/"
    },
    "id": "tF828i23Ncyq",
    "outputId": "47c21d22-c565-4906-d36a-60835fb44246"
   },
   "outputs": [],
   "source": [
    "from google.colab import drive\n",
    "drive.mount('/content/drive')"
   ]
  },
  {
   "cell_type": "code",
   "execution_count": null,
   "metadata": {
    "colab": {
     "base_uri": "https://localhost:8080/"
    },
    "id": "OyDpfdPQSPR1",
    "outputId": "7a6ba703-c1ba-4598-c505-ccddf10feb5f"
   },
   "outputs": [],
   "source": [
    "!pip install paddleocr\n",
    "!pip install paddlepaddle"
   ]
  },
  {
   "cell_type": "code",
   "execution_count": null,
   "metadata": {
    "colab": {
     "base_uri": "https://localhost:8080/"
    },
    "id": "mINEOcIsFZhL",
    "outputId": "24a1ea86-54cf-415a-9bab-37af80602210"
   },
   "outputs": [],
   "source": [
    "from paddleocr import PaddleOCR\n",
    "import os\n",
    "import pandas as pd\n",
    "\n",
    "# Paths for the CSV file and image directory\n",
    "temp_csv_path = '/content/drive/MyDrive/PhotoQA/newimage.csv'\n",
    "image_base_path = '/content/drive/MyDrive/PhotoQA/newimage_cropped/approved/'\n",
    "\n",
    "# Template for saving batch output files\n",
    "batch_output_file_template = '/content/drive/MyDrive/PhotoQA/ocr_results_batch_{batch_idx}.txt'\n",
    "\n",
    "# Load and filter data\n",
    "data = pd.read_csv(temp_csv_path)\n",
    "data = data[(data['image_type'] == 'ExpiryImages') & (data['image_status'] == 'Approved')]\n",
    "\n",
    "# Initialize OCR\n",
    "ocr = PaddleOCR(use_angle_cls=True, lang='en')\n",
    "\n",
    "# Set batch size\n",
    "batch_size = 100\n",
    "\n",
    "# Split DataFrame into batches\n",
    "batches = [data.iloc[i:i + batch_size] for i in range(0, len(data), batch_size)]\n",
    "\n",
    "# Process each batch and save results\n",
    "for batch_idx, batch in enumerate(batches):\n",
    "    batch_results = {}\n",
    "\n",
    "    # Perform OCR for each batch\n",
    "    for job_no, group in batch.groupby(['job_no']):\n",
    "        batch_results[job_no] = {}\n",
    "        for line_id, line_group in group.groupby('line_id'):\n",
    "            line_texts = []\n",
    "\n",
    "            for image_name in line_group['image_name']:\n",
    "                image_path = os.path.join(image_base_path, image_name)\n",
    "                try:\n",
    "                    # Run OCR\n",
    "                    results = ocr.ocr(image_path)\n",
    "                    for line in results[0]:\n",
    "                        detected_text = line[1][0]\n",
    "                        confidence = line[1][1]\n",
    "                        line_texts.append(f\"Text: {detected_text} (Confidence: {confidence:.2f})\")\n",
    "                except Exception as e:\n",
    "                    print(f\"Error processing {image_path}: {e}\")\n",
    "\n",
    "            # Save OCR results\n",
    "            batch_results[job_no][line_id] = line_texts\n",
    "\n",
    "    # Save batch results to file\n",
    "    batch_output_file = batch_output_file_template.format(batch_idx=batch_idx + 1)\n",
    "    with open(batch_output_file, 'w') as f:\n",
    "        for job_no, line_groups in batch_results.items():\n",
    "            f.write(f\"Job No: {job_no}\\n\")\n",
    "            for line_id, texts in line_groups.items():\n",
    "                f.write(f\"  Line ID: {line_id}\\n\")\n",
    "                f.write(\"\\n\".join(texts))\n",
    "                f.write(\"\\n\\n\")\n",
    "\n",
    "    print(f\"Batch {batch_idx + 1}/{len(batches)} results saved to {batch_output_file}.\")\n",
    "\n",
    "print(\"All batches processed and results saved.\")\n",
    "\n"
   ]
  },
  {
   "cell_type": "code",
   "execution_count": null,
   "metadata": {
    "colab": {
     "base_uri": "https://localhost:8080/"
    },
    "id": "lQvzAETuagl5",
    "outputId": "3b584576-67d8-4a1c-c1ae-d2eca989b05a"
   },
   "outputs": [],
   "source": [
    "from paddleocr import PaddleOCR\n",
    "import os\n",
    "import pandas as pd\n",
    "\n",
    "# Paths for the CSV file and image directory\n",
    "temp_csv_path = '/content/drive/MyDrive/PhotoQA/newimage.csv'\n",
    "image_base_path = '/content/drive/MyDrive/PhotoQA/newimage_cropped/approved/'\n",
    "\n",
    "# Template for saving batch output files\n",
    "batch_output_file_template = '/content/drive/MyDrive/PhotoQA/ocr_results_batch_{batch_idx}.txt'\n",
    "\n",
    "# Load and filter data\n",
    "data = pd.read_csv(temp_csv_path)\n",
    "data = data[(data['image_type'] == 'ExpiryImages') & (data['image_status'] == 'Approved')]\n",
    "\n",
    "# Initialize OCR\n",
    "ocr = PaddleOCR(use_angle_cls=True, lang='en')\n",
    "\n",
    "# Set batch size\n",
    "batch_size = 100\n",
    "\n",
    "# Start from an existing batch index\n",
    "start_batch_idx = 0 # Change this to the batch index you want to start from\n",
    "\n",
    "# Slice the data starting from the specified batch index\n",
    "remaining_batches = [data.iloc[i:i + batch_size] for i in range((start_batch_idx - 1) * batch_size, len(data), batch_size)]\n",
    "\n",
    "# Process each batch and save results (starting from batch 23)\n",
    "for batch_idx, batch in enumerate(remaining_batches, start=start_batch_idx):\n",
    "    batch_results = {}\n",
    "\n",
    "    # Perform OCR for each batch\n",
    "    for job_no, group in batch.groupby(['job_no']):\n",
    "        batch_results[job_no] = {}\n",
    "        for line_id, line_group in group.groupby('line_id'):\n",
    "            line_texts = []\n",
    "\n",
    "            for image_name in line_group['image_name']:\n",
    "                image_path = os.path.join(image_base_path, image_name)\n",
    "                try:\n",
    "                    # Run OCR\n",
    "                    results = ocr.ocr(image_path)\n",
    "                    for line in results[0]:\n",
    "                        detected_text = line[1][0]\n",
    "                        confidence = line[1][1]\n",
    "                        line_texts.append(f\"Text: {detected_text} (Confidence: {confidence:.2f})\")\n",
    "                except Exception as e:\n",
    "                    print(f\"Error processing {image_path}: {e}\")\n",
    "\n",
    "            # Save OCR results\n",
    "            batch_results[job_no][line_id] = line_texts\n",
    "\n",
    "    # Save batch results to file\n",
    "    batch_output_file = batch_output_file_template.format(batch_idx=batch_idx)\n",
    "    with open(batch_output_file, 'w') as f:\n",
    "        for job_no, line_groups in batch_results.items():\n",
    "            f.write(f\"Job No: {job_no}\\n\")\n",
    "            for line_id, texts in line_groups.items():\n",
    "                f.write(f\"  Line ID: {line_id}\\n\")\n",
    "                f.write(\"\\n\".join(texts))\n",
    "                f.write(\"\\n\\n\")\n",
    "\n",
    "    print(f\"Batch {batch_idx}/{start_batch_idx + len(remaining_batches) - 1} results saved to {batch_output_file}.\")\n",
    "\n",
    "print(\"results saved.\")\n",
    "\n"
   ]
  }
 ],
 "metadata": {
  "colab": {
   "provenance": []
  },
  "kernelspec": {
   "display_name": "Python 3",
   "name": "python3"
  },
  "language_info": {
   "name": "python"
  }
 },
 "nbformat": 4,
 "nbformat_minor": 0
}
