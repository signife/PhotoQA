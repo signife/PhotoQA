{
 "cells": [
  {
   "cell_type": "code",
   "execution_count": null,
   "metadata": {},
   "outputs": [],
   "source": [
    "import shutil\n",
    "import pandas as pd\n",
    "import os\n",
    "# Directory setup\n",
    "cleaned_data = pd.read_csv(\"data/cleaned_data.csv\")\n",
    "\n",
    "source_root = \"data/declined+newdeclined/compliances\"  # Original data directory\n",
    "destination_root = \"data/newimage\"  # New data directory\n",
    "\n",
    "# Create Approved and Declined folders\n",
    "approved_dir = os.path.join(destination_root, \"approved\")\n",
    "declined_dir = os.path.join(destination_root, \"declined\")\n",
    "os.makedirs(approved_dir, exist_ok=True)\n",
    "os.makedirs(declined_dir, exist_ok=True)\n",
    "\n",
    "# Image moving process\n",
    "for index, row in cleaned_data.iterrows():\n",
    "    job_no = str(row[\"job_no\"])  # Job number\n",
    "    image_name = row[\"image_name\"]  # Image name\n",
    "    image_status = row[\"image_status\"]  # Approved or Declined\n",
    "\n",
    "    # Source image path\n",
    "    source_path = os.path.join(source_root, job_no, image_name)\n",
    "\n",
    "    # Set destination path\n",
    "    if image_status == \"Approved\":\n",
    "        dest_path = os.path.join(approved_dir, image_name)\n",
    "    elif image_status == \"Declined\":\n",
    "        dest_path = os.path.join(declined_dir, image_name)\n",
    "    else:\n",
    "        continue  # Skip if not Approved or Declined\n",
    "\n",
    "    # Copy the image\n",
    "    if os.path.exists(source_path):\n",
    "        shutil.copy2(source_path, dest_path)\n",
    "    else:\n",
    "        print(f\"File not found: {source_path}\")\n"
   ]
  }
 ],
 "metadata": {
  "language_info": {
   "name": "python"
  }
 },
 "nbformat": 4,
 "nbformat_minor": 2
}
