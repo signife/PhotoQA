{
 "cells": [
  {
   "cell_type": "code",
   "execution_count": null,
   "metadata": {},
   "outputs": [],
   "source": [
    "pip install opencv-python-headless\n"
   ]
  },
  {
   "cell_type": "code",
   "execution_count": null,
   "metadata": {},
   "outputs": [],
   "source": [
    "pip install albumentations"
   ]
  },
  {
   "cell_type": "code",
   "execution_count": null,
   "metadata": {},
   "outputs": [],
   "source": [
    "pip install tqdm"
   ]
  },
  {
   "cell_type": "code",
   "execution_count": null,
   "metadata": {},
   "outputs": [],
   "source": [
    "import os\n",
    "import pandas as pd\n",
    "import cv2\n",
    "import albumentations as A\n",
    "from tqdm import tqdm\n",
    "\n",
    "# Load metadata\n",
    "metadata_path = \"data/data-1729656846556.csv\"  # Path to the original metadata file\n",
    "metadata = pd.read_csv(metadata_path)\n",
    "\n",
    "# List to store the new metadata\n",
    "new_metadata = []\n",
    "\n",
    "# Augmentation settings\n",
    "augment = A.Compose([\n",
    "    A.HorizontalFlip(p=0.5),\n",
    "    A.RandomBrightnessContrast(p=0.2),\n",
    "    A.Rotate(limit=15, p=0.3),\n",
    "    A.ToGray(p=0.2),\n",
    "    A.GaussNoise(var_limit=(10.0, 50.0), p=0.3),\n",
    "    A.Blur(blur_limit=3, p=0.2),\n",
    "    A.ShiftScaleRotate(shift_limit=0.05, scale_limit=0.1, rotate_limit=20, p=0.3)\n",
    "])\n",
    "\n",
    "# Filter and augment Declined images\n",
    "for _, row in tqdm(metadata.iterrows(), total=len(metadata)):\n",
    "    if row['image_status'] == \"Declined\":\n",
    "        original_image_path = os.path.join(\"data/cropdata\", str(row['job_no']), row['image_name'])\n",
    "        \n",
    "        # Load image\n",
    "        image = cv2.imread(original_image_path)\n",
    "        if image is None:\n",
    "            continue\n",
    "        \n",
    "        # Apply augmentation\n",
    "        augmented_image = augment(image=image)['image']\n",
    "        \n",
    "        # Create filename and path for the augmented image (add _augmented)\n",
    "        original_folder = os.path.join(\"data/cropdata\", str(row['job_no']))\n",
    "        new_image_name = f\"{os.path.splitext(row['image_name'])[0]}_augmented.jpg\"\n",
    "        new_image_path = os.path.join(original_folder, new_image_name)\n",
    "        \n",
    "        # Save the augmented image\n",
    "        cv2.imwrite(new_image_path, augmented_image)\n",
    "        \n",
    "        # Copy and modify the original metadata\n",
    "        new_row = row.copy()\n",
    "        new_row['image_name'] = new_image_name  # Change to augmented image filename\n",
    "        new_row['image_path'] = new_image_path  # Add new path\n",
    "        new_metadata.append(new_row)\n",
    "\n",
    "    # Add the original data to the new metadata as is\n",
    "    original_row = row.copy()\n",
    "    original_image_path = os.path.join(\"data/cropdata\", str(row['job_no']), row['image_name'])\n",
    "    original_row['image_path'] = original_image_path  # Add the original path\n",
    "    new_metadata.append(original_row)\n",
    "\n",
    "# Save the new metadata file\n",
    "new_metadata_df = pd.DataFrame(new_metadata)\n",
    "new_metadata_df.to_csv(\"data/augmented_metadata.csv\", index=False)\n",
    "\n"
   ]
  },
  {
   "cell_type": "code",
   "execution_count": null,
   "metadata": {},
   "outputs": [],
   "source": []
  }
 ],
 "metadata": {
  "kernelspec": {
   "display_name": "Python 3",
   "language": "python",
   "name": "python3"
  },
  "language_info": {
   "codemirror_mode": {
    "name": "ipython",
    "version": 3
   },
   "file_extension": ".py",
   "mimetype": "text/x-python",
   "name": "python",
   "nbconvert_exporter": "python",
   "pygments_lexer": "ipython3",
   "version": "3.12.7"
  }
 },
 "nbformat": 4,
 "nbformat_minor": 2
}
