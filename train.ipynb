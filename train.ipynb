{
 "cells": [
  {
   "cell_type": "code",
   "execution_count": null,
   "metadata": {},
   "outputs": [
    {
     "name": "stderr",
     "output_type": "stream",
     "text": [
      "/usr/local/lib/python3.12/site-packages/torchvision/models/_utils.py:208: UserWarning: The parameter 'pretrained' is deprecated since 0.13 and may be removed in the future, please use 'weights' instead.\n",
      "  warnings.warn(\n",
      "/usr/local/lib/python3.12/site-packages/torchvision/models/_utils.py:223: UserWarning: Arguments other than a weight enum or `None` for 'weights' are deprecated since 0.13 and may be removed in the future. The current behavior is equivalent to passing `weights=ResNet18_Weights.IMAGENET1K_V1`. You can also use `weights=ResNet18_Weights.DEFAULT` to get the most up-to-date weights.\n",
      "  warnings.warn(msg)\n",
      "Epoch 1/5:   2%|▏         | 8/385 [00:20<16:13,  2.58s/it, loss=0.435]"
     ]
    },
    {
     "name": "stdout",
     "output_type": "stream",
     "text": [
      "Warning: Image not found at data/declined/compliances/757249/Screenshot-2024-02-06-140415.png. Skipping this file.\n"
     ]
    },
    {
     "name": "stderr",
     "output_type": "stream",
     "text": [
      "Epoch 1/5:   9%|▉         | 35/385 [01:29<14:34,  2.50s/it, loss=0.212]"
     ]
    },
    {
     "name": "stdout",
     "output_type": "stream",
     "text": [
      "Warning: Image not found at data/declined/compliances/790804/Image.png. Skipping this file.\n"
     ]
    },
    {
     "name": "stderr",
     "output_type": "stream",
     "text": [
      "Epoch 1/5:  12%|█▏        | 48/385 [02:02<14:12,  2.53s/it, loss=0.334]"
     ]
    },
    {
     "name": "stdout",
     "output_type": "stream",
     "text": [
      "Warning: Image not found at data/declined/compliances/788420/710377033-smokealarm-bedroom-5.jpeg. Skipping this file.\n"
     ]
    },
    {
     "name": "stderr",
     "output_type": "stream",
     "text": [
      "Epoch 1/5:  20%|██        | 78/385 [03:18<14:51,  2.90s/it, loss=0.22] "
     ]
    },
    {
     "name": "stdout",
     "output_type": "stream",
     "text": [
      "Warning: Image not found at data/declined/compliances/788420/710376987-smokealarm-bedroom-4.jpeg. Skipping this file.\n"
     ]
    },
    {
     "name": "stderr",
     "output_type": "stream",
     "text": [
      "Epoch 1/5:  69%|██████▉   | 267/385 [11:33<04:53,  2.48s/it, loss=0.286] "
     ]
    },
    {
     "name": "stdout",
     "output_type": "stream",
     "text": [
      "Warning: Image not found at data/declined/compliances/754699/Screenshot-2024-04-18-135132.png. Skipping this file.\n"
     ]
    },
    {
     "name": "stderr",
     "output_type": "stream",
     "text": [
      "Epoch 1/5:  78%|███████▊  | 300/385 [12:55<03:30,  2.47s/it, loss=0.416]"
     ]
    },
    {
     "name": "stdout",
     "output_type": "stream",
     "text": [
      "Warning: Image not found at data/declined/compliances/754699/Screenshot-2024-04-18-135048.png. Skipping this file.\n"
     ]
    },
    {
     "name": "stderr",
     "output_type": "stream",
     "text": [
      "                                                                        \r"
     ]
    },
    {
     "name": "stdout",
     "output_type": "stream",
     "text": [
      "Epoch [1/5], Loss: 0.3561022961488018\n"
     ]
    },
    {
     "name": "stderr",
     "output_type": "stream",
     "text": [
      "Epoch 2/5:   7%|▋         | 27/385 [01:05<14:17,  2.40s/it, loss=0.229] "
     ]
    },
    {
     "name": "stdout",
     "output_type": "stream",
     "text": [
      "Warning: Image not found at data/declined/compliances/754699/Screenshot-2024-04-18-135048.png. Skipping this file.\n",
      "Warning: Image not found at data/declined/compliances/788420/710376987-smokealarm-bedroom-4.jpeg. Skipping this file.\n"
     ]
    },
    {
     "name": "stderr",
     "output_type": "stream",
     "text": [
      "Epoch 2/5:  20%|█▉        | 76/385 [03:14<12:39,  2.46s/it, loss=0.312] "
     ]
    },
    {
     "name": "stdout",
     "output_type": "stream",
     "text": [
      "Warning: Image not found at data/declined/compliances/754699/Screenshot-2024-04-18-135132.png. Skipping this file.\n",
      "Warning: Image not found at data/declined/compliances/757249/Screenshot-2024-02-06-140415.png. Skipping this file.\n"
     ]
    },
    {
     "name": "stderr",
     "output_type": "stream",
     "text": [
      "Epoch 2/5:  57%|█████▋    | 220/385 [09:03<06:40,  2.43s/it, loss=0.384]"
     ]
    },
    {
     "name": "stdout",
     "output_type": "stream",
     "text": [
      "Warning: Image not found at data/declined/compliances/790804/Image.png. Skipping this file.\n"
     ]
    },
    {
     "name": "stderr",
     "output_type": "stream",
     "text": [
      "Epoch 2/5:  64%|██████▎   | 245/385 [10:01<05:22,  2.30s/it, loss=0.2]  "
     ]
    },
    {
     "name": "stdout",
     "output_type": "stream",
     "text": [
      "Warning: Image not found at data/declined/compliances/788420/710377033-smokealarm-bedroom-5.jpeg. Skipping this file.\n"
     ]
    },
    {
     "name": "stderr",
     "output_type": "stream",
     "text": [
      "                                                                        \r"
     ]
    },
    {
     "name": "stdout",
     "output_type": "stream",
     "text": [
      "Epoch [2/5], Loss: 0.31672789707973403\n"
     ]
    },
    {
     "name": "stderr",
     "output_type": "stream",
     "text": [
      "Epoch 3/5:   9%|▉         | 34/385 [01:25<14:44,  2.52s/it, loss=0.357]"
     ]
    },
    {
     "name": "stdout",
     "output_type": "stream",
     "text": [
      "Warning: Image not found at data/declined/compliances/757249/Screenshot-2024-02-06-140415.png. Skipping this file.\n"
     ]
    },
    {
     "name": "stderr",
     "output_type": "stream",
     "text": [
      "Epoch 3/5:  21%|██▏       | 82/385 [03:31<13:41,  2.71s/it, loss=0.356]"
     ]
    },
    {
     "name": "stdout",
     "output_type": "stream",
     "text": [
      "Warning: Image not found at data/declined/compliances/788420/710377033-smokealarm-bedroom-5.jpeg. Skipping this file.\n"
     ]
    },
    {
     "name": "stderr",
     "output_type": "stream",
     "text": [
      "Epoch 3/5:  40%|████      | 155/385 [06:43<10:26,  2.72s/it, loss=0.189]"
     ]
    }
   ],
   "source": [
    "\n",
    "import os\n",
    "import pandas as pd\n",
    "import torch\n",
    "import torch.nn as nn\n",
    "import torch.optim as optim\n",
    "from torch.utils.data import Dataset, DataLoader\n",
    "from torchvision import transforms, models\n",
    "from PIL import Image\n",
    "from tqdm import tqdm  # Import tqdm for the progress bar\n",
    "\n",
    "# Import configuration settings\n",
    "import config\n",
    "\n",
    "# Define a PyTorch Dataset\n",
    "class SmokeAlarmDataset(Dataset):\n",
    "    def __init__(self, df, image_dir, transform=None):\n",
    "        self.df = df\n",
    "        self.image_dir = image_dir\n",
    "        self.transform = transform\n",
    "        self.label_map = {\"Approved\": 1, \"Declined\": 0}\n",
    "        \n",
    "    def __len__(self):\n",
    "        return len(self.df)\n",
    "    \n",
    "    def __getitem__(self, idx):\n",
    "        job_no = str(self.df.iloc[idx][\"job_no\"])  # Convert job_no to string\n",
    "        image_name = self.df.iloc[idx][\"image_name\"]\n",
    "        label = self.df.iloc[idx][\"image_status\"]\n",
    "        label = self.label_map.get(label, 0)  # Default to 0 if label is missing\n",
    "        \n",
    "        image_path = os.path.join(self.image_dir, job_no, image_name)\n",
    "        \n",
    "        if not os.path.exists(image_path):\n",
    "            print(f\"Warning: Image not found at {image_path}. Skipping this file.\")\n",
    "            return None, None\n",
    "        \n",
    "        image = Image.open(image_path).convert(\"RGB\")\n",
    "        \n",
    "        if self.transform:\n",
    "            image = self.transform(image)\n",
    "        \n",
    "        return image, label\n",
    "\n",
    "# Custom collate function to handle missing files\n",
    "def collate_fn(batch):\n",
    "    batch = [item for item in batch if item[0] is not None]\n",
    "    return torch.utils.data.dataloader.default_collate(batch)\n",
    "\n",
    "# Define transformations for data preprocessing\n",
    "transform = transforms.Compose([\n",
    "    transforms.Resize((224, 224)),  \n",
    "    transforms.ToTensor(),          \n",
    "    transforms.Normalize(mean=config.NORMALIZE_MEAN, std=config.NORMALIZE_STD)\n",
    "])\n",
    "\n",
    "# Load the CSV file\n",
    "df = pd.read_csv(config.CSV_FILE_PATH)\n",
    "\n",
    "# Initialize the dataset and dataloader with the custom collate function\n",
    "dataset = SmokeAlarmDataset(df, config.IMAGE_DIR, transform=transform)\n",
    "dataloader = DataLoader(dataset, batch_size=config.BATCH_SIZE, shuffle=True, collate_fn=collate_fn)\n",
    "\n",
    "# Define the model\n",
    "class SimpleCNN(nn.Module):\n",
    "    def __init__(self):\n",
    "        super(SimpleCNN, self).__init__()\n",
    "        self.model = getattr(models, config.MODEL_NAME)(pretrained=True)\n",
    "        self.model.fc = nn.Linear(self.model.fc.in_features, 1)\n",
    "    \n",
    "    def forward(self, x):\n",
    "        return torch.sigmoid(self.model(x))\n",
    "\n",
    "model = SimpleCNN()\n",
    "\n",
    "# Define loss and optimizer\n",
    "criterion = nn.BCELoss()\n",
    "optimizer = optim.Adam(model.parameters(), lr=config.LEARNING_RATE)\n",
    "\n",
    "# Training loop with tqdm progress bar\n",
    "for epoch in range(config.NUM_EPOCHS):\n",
    "    model.train()\n",
    "    running_loss = 0.0\n",
    "    \n",
    "    # Use tqdm to add a progress bar\n",
    "    progress_bar = tqdm(dataloader, desc=f\"Epoch {epoch + 1}/{config.NUM_EPOCHS}\", leave=False)\n",
    "    for images, labels in progress_bar:\n",
    "        labels = labels.unsqueeze(1).float()  # Reshape labels for binary output\n",
    "        \n",
    "        optimizer.zero_grad()\n",
    "        \n",
    "        outputs = model(images)\n",
    "        loss = criterion(outputs, labels)\n",
    "        \n",
    "        loss.backward()\n",
    "        optimizer.step()\n",
    "        \n",
    "        running_loss += loss.item()\n",
    "        \n",
    "        # Update progress bar description with current loss\n",
    "        progress_bar.set_postfix(loss=loss.item())\n",
    "    \n",
    "    print(f\"Epoch [{epoch + 1}/{config.NUM_EPOCHS}], Loss: {running_loss / len(dataloader)}\")\n",
    "\n",
    "print(\"Training complete.\")\n"
   ]
  },
  {
   "cell_type": "code",
   "execution_count": null,
   "metadata": {},
   "outputs": [],
   "source": []
  }
 ],
 "metadata": {
  "kernelspec": {
   "display_name": "Python 3",
   "language": "python",
   "name": "python3"
  },
  "language_info": {
   "codemirror_mode": {
    "name": "ipython",
    "version": 3
   },
   "file_extension": ".py",
   "mimetype": "text/x-python",
   "name": "python",
   "nbconvert_exporter": "python",
   "pygments_lexer": "ipython3",
   "version": "3.12.7"
  }
 },
 "nbformat": 4,
 "nbformat_minor": 2
}
